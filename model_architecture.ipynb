{
 "cells": [
  {
   "metadata": {},
   "cell_type": "code",
   "outputs": [],
   "execution_count": null,
   "source": [
    "import torch\n",
    "import torch.nn as nn"
   ],
   "id": "7fb48e1ae9ea8395"
  },
  {
   "cell_type": "code",
   "execution_count": null,
   "id": "initial_id",
   "metadata": {
    "collapsed": true
   },
   "outputs": [],
   "source": [
    "class DQN(nn.Module):\n",
    "    \"\"\"\n",
    "    Deep-Q Network template.\n",
    "\n",
    "    Expected behaviour\n",
    "    ------------------\n",
    "    forward(frame)      # frame: (B, C, H, W)  →  Q-values: (B, num_actions)\n",
    "\n",
    "    What to add / change\n",
    "    --------------------\n",
    "    • Replace the two `NotImplementedError` lines.\n",
    "    • Build an encoder (Conv2d / Conv3d) + a head (MLP or duelling).\n",
    "    • Feel free to use residual blocks from `agents/utils.py` or any design you like.\n",
    "    \"\"\"\n",
    "\n",
    "    def __init__(self, input_dim: int, action_space: int, hidden: int = 128):\n",
    "        super().__init__()\n",
    "\n",
    "        # -------- TODO: define your layers ------------------------\n",
    "        # Example (very small) baseline — delete or improve:\n",
    "        #\n",
    "        self.encoder = nn.Sequential(\n",
    "            nn.Conv2d(input_dim, 32, 8, stride=4), nn.ReLU(),\n",
    "            nn.Conv2d(32, 64, 4, stride=2),       nn.ReLU(),\n",
    "            nn.Conv2d(64, 64, 3, stride=1),       nn.ReLU(),\n",
    "        )\n",
    "        self.head = nn.Sequential(\n",
    "            nn.Flatten(),\n",
    "            nn.Linear(64 * 12 * 12, hidden), nn.ReLU(),\n",
    "            nn.Linear(hidden, action_space),\n",
    "        )\n",
    "        # -----------------------------------------------------------\n",
    "\n",
    "        self._init_weights()\n",
    "\n",
    "    def _init_weights(self):\n",
    "        for m in self.modules():\n",
    "            if isinstance(m, (nn.Conv2d, nn.Linear)):\n",
    "                nn.init.kaiming_normal_(m.weight, nonlinearity='relu')\n",
    "                if m.bias is not None:\n",
    "                    nn.init.constant_(m.bias, 0)\n",
    "\n",
    "    def forward(self, frame: torch.Tensor) -> torch.Tensor:\n",
    "        # -------- TODO: implement forward -------------------------\n",
    "        x = self.encoder(frame)\n",
    "        x = self.head(x)\n",
    "        return x\n",
    "        # -----------------------------------------------------------"
   ]
  },
  {
   "metadata": {},
   "cell_type": "code",
   "outputs": [],
   "execution_count": null,
   "source": [
    "model = DQN(\n",
    "    input_dim    = 4,\n",
    "    action_space = 8,\n",
    "    hidden       = 64,   # change or ignore\n",
    ").to('cuda', dtype=torch.float32)"
   ],
   "id": "b47cd94662a4b96b"
  }
 ],
 "metadata": {
  "kernelspec": {
   "display_name": "Python 3",
   "language": "python",
   "name": "python3"
  },
  "language_info": {
   "codemirror_mode": {
    "name": "ipython",
    "version": 2
   },
   "file_extension": ".py",
   "mimetype": "text/x-python",
   "name": "python",
   "nbconvert_exporter": "python",
   "pygments_lexer": "ipython2",
   "version": "2.7.6"
  }
 },
 "nbformat": 4,
 "nbformat_minor": 5
}
